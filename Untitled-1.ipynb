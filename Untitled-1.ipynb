{
 "cells": [
  {
   "cell_type": "code",
   "execution_count": null,
   "metadata": {},
   "outputs": [],
   "source": [
    "import sympy as sp\n",
    "def calcular_derivada(f, n):\n",
    "    x = sp.symbols('x')\n",
    "    funcao = sp.sympify(f)  # Converte a string da função para um objeto sympy\n",
    "\n",
    "    # Calcula a derivada de ordem n\n",
    "    derivada = sp.diff(funcao, x, n)\n",
    "\n",
    "    # Avalia a derivada em x = 0\n",
    "    valor_em_zero = derivada.subs(x, 0)\n",
    "\n",
    "    return derivada, valor_em_zero\n",
    "\n",
    "# Exemplo de uso\n",
    "x = sp.symbols('x')  # Adicionei essa linha para definir x antes de usar na expressão\n",
    "funcao_inserida = (x**6) * sp.cos(x)\n",
    "ordem_derivada = int(input(\"Digite a ordem da derivada desejada (n): \"))\n",
    "\n",
    "derivada_resultante, valor_em_zero = calcular_derivada(funcao_inserida, ordem_derivada)\n",
    "\n",
    "print(f\"A {ordem_derivada}-ésima derivada da função é: {derivada_resultante}\")\n",
    "print(f\"O valor da {ordem_derivada}-ésima derivada em f(0) é: {valor_em_zero}\")"
   ]
  }
 ],
 "metadata": {
  "language_info": {
   "name": "python"
  }
 },
 "nbformat": 4,
 "nbformat_minor": 2
}
